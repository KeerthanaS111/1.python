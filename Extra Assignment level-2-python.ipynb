{
 "cells": [
  {
   "cell_type": "code",
   "execution_count": 1,
   "id": "e697654b-3282-4b90-8823-16ff1fe4c77e",
   "metadata": {},
   "outputs": [],
   "source": [
    "#print 0 to 20 by using range"
   ]
  },
  {
   "cell_type": "code",
   "execution_count": 8,
   "id": "af15ccff-257e-4777-8e4c-502960704f8b",
   "metadata": {},
   "outputs": [
    {
     "name": "stdout",
     "output_type": "stream",
     "text": [
      "0\n",
      "1\n",
      "2\n",
      "3\n",
      "4\n",
      "5\n",
      "6\n",
      "7\n",
      "8\n",
      "9\n",
      "10\n",
      "11\n",
      "12\n",
      "13\n",
      "14\n",
      "15\n",
      "16\n",
      "17\n",
      "18\n",
      "19\n"
     ]
    }
   ],
   "source": [
    "range(0,20)\n",
    "for num in range(0,20):\n",
    "    print(num)\n"
   ]
  },
  {
   "cell_type": "code",
   "execution_count": 1,
   "id": "64aa894f-3bab-4945-9e5d-b269e3d7d33c",
   "metadata": {},
   "outputs": [],
   "source": [
    "# print range 10 to 20 "
   ]
  },
  {
   "cell_type": "code",
   "execution_count": 24,
   "id": "c145e8da-9810-47c9-832a-20266fdda51e",
   "metadata": {},
   "outputs": [
    {
     "name": "stdout",
     "output_type": "stream",
     "text": [
      "10 11 12 13 14 15 16 17 18 19 "
     ]
    }
   ],
   "source": [
    "range(10,20)\n",
    "for i in range(10,20):\n",
    "    print(i,end=' ')\n",
    "    "
   ]
  },
  {
   "cell_type": "code",
   "execution_count": 25,
   "id": "35be461a-fee2-4190-ac9f-fdc7883834ce",
   "metadata": {},
   "outputs": [],
   "source": [
    "#Print number of items in the list by using 'len'"
   ]
  },
  {
   "cell_type": "code",
   "execution_count": 35,
   "id": "bf1785f5-c8d3-411b-a166-f7dc5dbc7657",
   "metadata": {},
   "outputs": [
    {
     "name": "stdout",
     "output_type": "stream",
     "text": [
      "[10, 20, 14, 55, 45, 87, 76]\n",
      "Number of item in the List:\n",
      "7\n"
     ]
    }
   ],
   "source": [
    "list=[10,20,14,55,45,87,76]\n",
    "print(list)\n",
    "print(\"Number of item in the List:\")\n",
    "print(len(list))"
   ]
  },
  {
   "cell_type": "code",
   "execution_count": 47,
   "id": "e5c03295-40b6-4a67-81f5-db41633527cc",
   "metadata": {},
   "outputs": [
    {
     "name": "stdout",
     "output_type": "stream",
     "text": [
      "Artificial Intelligence\n",
      "A\n",
      "r\n",
      "t\n",
      "i\n",
      "f\n",
      "i\n",
      "c\n",
      "i\n",
      "a\n",
      "l\n",
      " \n",
      "I\n",
      "n\n",
      "t\n",
      "e\n",
      "l\n",
      "l\n",
      "i\n",
      "g\n",
      "e\n",
      "n\n",
      "c\n",
      "e\n"
     ]
    }
   ],
   "source": [
    "print(\"Artificial Intelligence\")\n",
    "a='Artificial Intelligence'\n",
    "for word in a:\n",
    "    print(word)"
   ]
  },
  {
   "cell_type": "code",
   "execution_count": 48,
   "id": "f6a9724b-576f-4099-ab70-2bb9c470d95f",
   "metadata": {},
   "outputs": [
    {
     "name": "stdout",
     "output_type": "stream",
     "text": [
      "-Your Name-\n",
      "-Your Age-\n",
      "-Your Profession-\n"
     ]
    }
   ],
   "source": [
    "print(\"-Your Name-\")\n",
    "print(\"-Your Age-\")\n",
    "print(\"-Your Profession-\")"
   ]
  },
  {
   "cell_type": "code",
   "execution_count": 51,
   "id": "4690a19d-e60d-449d-a825-4a8bac094bde",
   "metadata": {},
   "outputs": [
    {
     "name": "stdout",
     "output_type": "stream",
     "text": [
      "(1, 'Welcome', 2, 'Hope')\n"
     ]
    }
   ],
   "source": [
    "tup=(1, 'Welcome', 2, 'Hope')\n",
    "print(tup)\n"
   ]
  },
  {
   "cell_type": "code",
   "execution_count": 4,
   "id": "b3f6a5a4-5abf-4938-a0d8-47b281f4f26f",
   "metadata": {},
   "outputs": [
    {
     "name": "stdout",
     "output_type": "stream",
     "text": [
      "((0, 1, 2, 3), ('Python', 'Hope'))\n"
     ]
    }
   ],
   "source": [
    "tup1 = (0, 1, 2, 3)\n",
    "tup2=('Python', 'Hope')\n",
    "tup3=(tup1, tup2)\n",
    "print(tup3)"
   ]
  },
  {
   "cell_type": "code",
   "execution_count": 5,
   "id": "075f1a85-bcd2-4512-95b4-85acae27e4bf",
   "metadata": {},
   "outputs": [],
   "source": [
    "# print Odd Numbers in the list "
   ]
  },
  {
   "cell_type": "code",
   "execution_count": 8,
   "id": "9e3cf2a9-758a-4970-974f-e42e6d901c58",
   "metadata": {},
   "outputs": [
    {
     "name": "stdout",
     "output_type": "stream",
     "text": [
      "19 is odd\n",
      "25 is odd\n",
      "1 is odd\n"
     ]
    }
   ],
   "source": [
    "list=[20,10,16,19,25,1,276,188]\n",
    "for n in list:\n",
    "    if((n%2==1)):\n",
    "        print(n, \"is odd\" )\n",
    "    "
   ]
  },
  {
   "cell_type": "code",
   "execution_count": 9,
   "id": "ad023261-079f-47f9-b755-51696d103a64",
   "metadata": {},
   "outputs": [],
   "source": [
    "#print Even numbers in the list "
   ]
  },
  {
   "cell_type": "code",
   "execution_count": 10,
   "id": "bce4aef5-b21f-4e68-95c1-562e7491568d",
   "metadata": {},
   "outputs": [
    {
     "name": "stdout",
     "output_type": "stream",
     "text": [
      "20 is Even\n",
      "10 is Even\n",
      "16 is Even\n",
      "276 is Even\n",
      "188 is Even\n"
     ]
    }
   ],
   "source": [
    "list=[20,10,16,19,25,1,276,188]\n",
    "for n in list:\n",
    "    if((n%2==0)):\n",
    "        print(n, \"is Even\")"
   ]
  },
  {
   "cell_type": "code",
   "execution_count": null,
   "id": "efe0931f-9154-40c4-a2fb-a1c4f5e09705",
   "metadata": {},
   "outputs": [],
   "source": []
  }
 ],
 "metadata": {
  "kernelspec": {
   "display_name": "Python 3 (ipykernel)",
   "language": "python",
   "name": "python3"
  },
  "language_info": {
   "codemirror_mode": {
    "name": "ipython",
    "version": 3
   },
   "file_extension": ".py",
   "mimetype": "text/x-python",
   "name": "python",
   "nbconvert_exporter": "python",
   "pygments_lexer": "ipython3",
   "version": "3.12.7"
  }
 },
 "nbformat": 4,
 "nbformat_minor": 5
}
