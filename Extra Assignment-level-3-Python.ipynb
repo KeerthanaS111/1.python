{
 "cells": [
  {
   "cell_type": "code",
   "execution_count": 1,
   "id": "63baccfe-fb89-4766-ac7b-e90db2001570",
   "metadata": {},
   "outputs": [],
   "source": [
    "#print 'CORRECT' if i == 10 "
   ]
  },
  {
   "cell_type": "code",
   "execution_count": 2,
   "id": "54112066-53cf-4150-be8b-1a0b7ca86f5f",
   "metadata": {},
   "outputs": [
    {
     "name": "stdin",
     "output_type": "stream",
     "text": [
      "Value:  10\n"
     ]
    },
    {
     "name": "stdout",
     "output_type": "stream",
     "text": [
      "Correct\n"
     ]
    }
   ],
   "source": [
    "i=int(input(\"Value: \"))\n",
    "if (i==10):\n",
    "    print(\"Correct\")"
   ]
  },
  {
   "cell_type": "code",
   "execution_count": 3,
   "id": "543ad346-ace5-40b5-9b89-0a995924e64c",
   "metadata": {},
   "outputs": [],
   "source": [
    "#Check the password, using if and else "
   ]
  },
  {
   "cell_type": "code",
   "execution_count": 10,
   "id": "2ca7eea5-c7af-4848-a81e-620daf3434b6",
   "metadata": {},
   "outputs": [
    {
     "name": "stdin",
     "output_type": "stream",
     "text": [
      "Enter the password:  Hope@123\n"
     ]
    },
    {
     "name": "stdout",
     "output_type": "stream",
     "text": [
      "Your password is correct\n"
     ]
    }
   ],
   "source": [
    "i=(input(\"Enter the password: \"))\n",
    "if(i=='Hope@123'):\n",
    "    print(\"Your password is correct\")\n",
    "else:\n",
    "    print(\"Your paaword is incorrect\")"
   ]
  },
  {
   "cell_type": "code",
   "execution_count": 11,
   "id": "a2c949f9-18e7-4ec9-bdf6-29817a8923ad",
   "metadata": {},
   "outputs": [],
   "source": [
    "#Catagory the people by their age like children, adult, citizen, senior citizen... "
   ]
  },
  {
   "cell_type": "code",
   "execution_count": 13,
   "id": "214c66a3-262d-4692-9feb-b5e36e6638c4",
   "metadata": {},
   "outputs": [
    {
     "name": "stdin",
     "output_type": "stream",
     "text": [
      "Age: 20\n"
     ]
    },
    {
     "name": "stdout",
     "output_type": "stream",
     "text": [
      "Adult\n"
     ]
    }
   ],
   "source": [
    "age=int(input(\"Age:\"))\n",
    "if(age<18):\n",
    "    print(\"Childern\")\n",
    "elif(age<=35):\n",
    "    print(\"Adult\")\n",
    "elif(age<50):\n",
    "    print(\"Citizen\")\n",
    "else:\n",
    "    print(\"Senior Citizen\")"
   ]
  },
  {
   "cell_type": "code",
   "execution_count": 14,
   "id": "3172324f-8007-4c09-a3e5-d13a62ba3914",
   "metadata": {},
   "outputs": [],
   "source": [
    "#Find whether given number is positive or negative "
   ]
  },
  {
   "cell_type": "code",
   "execution_count": 29,
   "id": "36ac4355-f204-42f8-ac4a-d994bff359ca",
   "metadata": {},
   "outputs": [
    {
     "name": "stdin",
     "output_type": "stream",
     "text": [
      "Enter any number: 1\n"
     ]
    },
    {
     "name": "stdout",
     "output_type": "stream",
     "text": [
      "No is postive\n"
     ]
    }
   ],
   "source": [
    "num=int(input(\"Enter any number:\"))\n",
    "if(num>0):\n",
    "    print(\"No is postive\")\n",
    "elif(num==0):\n",
    "    print(\"Zero\")\n",
    "else:\n",
    "    print(\"No is negative\")"
   ]
  },
  {
   "cell_type": "code",
   "execution_count": 19,
   "id": "2294a3fc-66d2-422e-92f9-9db7a660924b",
   "metadata": {},
   "outputs": [],
   "source": [
    "#Check whether the given number is divisible by 5 "
   ]
  },
  {
   "cell_type": "code",
   "execution_count": 28,
   "id": "14cd5363-d7b9-4533-a81e-3113c1678b6c",
   "metadata": {},
   "outputs": [
    {
     "name": "stdin",
     "output_type": "stream",
     "text": [
      "Enter a number to check: 22\n"
     ]
    },
    {
     "name": "stdout",
     "output_type": "stream",
     "text": [
      "No is not divisible by 5\n"
     ]
    }
   ],
   "source": [
    "num=int(input(\"Enter a number to check:\"))\n",
    "if(num%5==0):\n",
    "    print(\"No is divisible by 5\")\n",
    "else:\n",
    "    print(\"No is not divisible by 5\")"
   ]
  },
  {
   "cell_type": "code",
   "execution_count": null,
   "id": "e3b5eb97-8abc-4a53-9e7c-7a39cbaa7c5f",
   "metadata": {},
   "outputs": [],
   "source": []
  }
 ],
 "metadata": {
  "kernelspec": {
   "display_name": "Python 3 (ipykernel)",
   "language": "python",
   "name": "python3"
  },
  "language_info": {
   "codemirror_mode": {
    "name": "ipython",
    "version": 3
   },
   "file_extension": ".py",
   "mimetype": "text/x-python",
   "name": "python",
   "nbconvert_exporter": "python",
   "pygments_lexer": "ipython3",
   "version": "3.12.7"
  }
 },
 "nbformat": 4,
 "nbformat_minor": 5
}
