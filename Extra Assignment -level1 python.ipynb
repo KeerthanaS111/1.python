{
 "cells": [
  {
   "cell_type": "code",
   "execution_count": 1,
   "id": "56d46a30-6d1c-4798-9659-d68835b853a0",
   "metadata": {},
   "outputs": [],
   "source": [
    "#Print Statement"
   ]
  },
  {
   "cell_type": "code",
   "execution_count": 2,
   "id": "e4ffcc28-5380-4ece-aee2-fa9b8eaab88e",
   "metadata": {},
   "outputs": [
    {
     "name": "stdout",
     "output_type": "stream",
     "text": [
      "HOPE AI\n"
     ]
    }
   ],
   "source": [
    "print(\"HOPE AI\")"
   ]
  },
  {
   "cell_type": "code",
   "execution_count": 3,
   "id": "dec40615-3283-420f-a8d3-e5c48579be6a",
   "metadata": {},
   "outputs": [],
   "source": [
    "#Buy Input"
   ]
  },
  {
   "cell_type": "code",
   "execution_count": 4,
   "id": "bfd3b0f6-facf-4dc0-983f-ba1ccc343eeb",
   "metadata": {},
   "outputs": [
    {
     "name": "stdin",
     "output_type": "stream",
     "text": [
      "Enter your institute name: HOPE AI\n"
     ]
    }
   ],
   "source": [
    "name=input(\"Enter your institute name:\")"
   ]
  },
  {
   "cell_type": "code",
   "execution_count": 6,
   "id": "1026c73f-4ee3-4a0f-b3b1-022ced37ce9b",
   "metadata": {},
   "outputs": [],
   "source": [
    "#Buy Inputs"
   ]
  },
  {
   "cell_type": "code",
   "execution_count": 7,
   "id": "a086f8bd-c70f-44c5-afe1-bdb7fc8209c6",
   "metadata": {},
   "outputs": [
    {
     "name": "stdin",
     "output_type": "stream",
     "text": [
      "Enter your name: Raj\n",
      "Enter your age: 15\n",
      "Enter your school name: Guru school\n",
      "Enter your degree: B.E CSE\n"
     ]
    }
   ],
   "source": [
    "name=input(\"Enter your name:\")\n",
    "age=int(input(\"Enter your age:\"))\n",
    "school=input(\"Enter your school name:\")\n",
    "degree=input(\"Enter your degree:\")"
   ]
  },
  {
   "cell_type": "code",
   "execution_count": 8,
   "id": "ebee1379-b46d-4922-8f63-dac0da1dca96",
   "metadata": {},
   "outputs": [],
   "source": [
    "#Addition"
   ]
  },
  {
   "cell_type": "code",
   "execution_count": 16,
   "id": "2d906570-2450-4d7a-b3b8-4d465aee53a8",
   "metadata": {},
   "outputs": [
    {
     "name": "stdout",
     "output_type": "stream",
     "text": [
      "a= 43\n",
      "b= 34\n",
      "add = 77\n"
     ]
    }
   ],
   "source": [
    "a=43\n",
    "b=34\n",
    "add=a+b\n",
    "print(\"a=\",a)\n",
    "print(\"b=\",b)\n",
    "print(\"add =\",add)"
   ]
  },
  {
   "cell_type": "code",
   "execution_count": 12,
   "id": "a27af045-e8d2-4bff-ad7a-6d9d583a0b4c",
   "metadata": {},
   "outputs": [],
   "source": [
    "#subtraction"
   ]
  },
  {
   "cell_type": "code",
   "execution_count": 18,
   "id": "2e55c025-fd8a-4f1a-8407-6060279dbcd5",
   "metadata": {},
   "outputs": [
    {
     "name": "stdout",
     "output_type": "stream",
     "text": [
      "a= 43\n",
      "b= 34\n",
      "sub = 9\n"
     ]
    }
   ],
   "source": [
    "a=43\n",
    "b=34\n",
    "sub=a-b\n",
    "print(\"a=\",a)\n",
    "print(\"b=\",b)\n",
    "print(\"sub =\",sub)"
   ]
  },
  {
   "cell_type": "code",
   "execution_count": 14,
   "id": "785802bf-c208-4b66-9de7-a79018808260",
   "metadata": {},
   "outputs": [],
   "source": [
    "#Multiplication"
   ]
  },
  {
   "cell_type": "code",
   "execution_count": 19,
   "id": "fa7a829f-b627-4a93-bfa0-ecde0200c4a6",
   "metadata": {},
   "outputs": [
    {
     "name": "stdout",
     "output_type": "stream",
     "text": [
      "a= 63\n",
      "b= 97\n",
      "Mul = 6111\n"
     ]
    }
   ],
   "source": [
    "a=63\n",
    "b=97\n",
    "Mul=a*b\n",
    "print(\"a=\",a)\n",
    "print(\"b=\",b)\n",
    "print(\"Mul =\",Mul)"
   ]
  },
  {
   "cell_type": "code",
   "execution_count": 20,
   "id": "0a77a551-fbfd-4c7f-89f2-3597695478b5",
   "metadata": {},
   "outputs": [],
   "source": [
    "#Division"
   ]
  },
  {
   "cell_type": "code",
   "execution_count": 22,
   "id": "1f3e1d2b-0910-4c3a-8928-b33817926c2f",
   "metadata": {},
   "outputs": [
    {
     "name": "stdout",
     "output_type": "stream",
     "text": [
      "a= 76\n",
      "b= 31\n",
      "Float Div= 2.4516129032258065\n"
     ]
    }
   ],
   "source": [
    "a=76\n",
    "b=31\n",
    "Div=a/b\n",
    "print(\"a=\",a)\n",
    "print(\"b=\",b)\n",
    "print(\"Float Div=\",Div)"
   ]
  },
  {
   "cell_type": "code",
   "execution_count": 23,
   "id": "091a568b-a240-4fd2-9a83-ee2f541a83d0",
   "metadata": {},
   "outputs": [],
   "source": [
    "#Floor Divison"
   ]
  },
  {
   "cell_type": "code",
   "execution_count": 24,
   "id": "5e981ab3-b1b1-439a-9519-22bfa2c8f41e",
   "metadata": {},
   "outputs": [
    {
     "name": "stdout",
     "output_type": "stream",
     "text": [
      "a= 76\n",
      "b= 31\n",
      "Floor Div= 2\n"
     ]
    }
   ],
   "source": [
    "a=76\n",
    "b=31\n",
    "Div=a//b\n",
    "print(\"a=\",a)\n",
    "print(\"b=\",b)\n",
    "print(\"Floor Div=\",Div)"
   ]
  },
  {
   "cell_type": "code",
   "execution_count": 25,
   "id": "184f176c-c8b4-42ad-98df-8baa4d79f4b1",
   "metadata": {},
   "outputs": [],
   "source": [
    "#Modulo"
   ]
  },
  {
   "cell_type": "code",
   "execution_count": 26,
   "id": "b73f0610-7069-4184-82ae-aabcd30b561a",
   "metadata": {},
   "outputs": [
    {
     "name": "stdout",
     "output_type": "stream",
     "text": [
      "a= 76\n",
      "b= 31\n",
      "Modulo= 14\n"
     ]
    }
   ],
   "source": [
    "a=76\n",
    "b=31\n",
    "mod=a%b\n",
    "print(\"a=\",a)\n",
    "print(\"b=\",b)\n",
    "print(\"Modulo=\",mod)"
   ]
  },
  {
   "cell_type": "code",
   "execution_count": 3,
   "id": "caec2f8e-a4e1-49c6-92dd-6a5a09fc5166",
   "metadata": {},
   "outputs": [
    {
     "name": "stdout",
     "output_type": "stream",
     "text": [
      "a= 4\n",
      "b= 4\n",
      "Power= 256\n"
     ]
    }
   ],
   "source": [
    "a=4\n",
    "b=4\n",
    "c=a**b\n",
    "print(\"a=\",a)\n",
    "print(\"b=\",b)\n",
    "print(\"Power=\",c)"
   ]
  },
  {
   "cell_type": "code",
   "execution_count": null,
   "id": "077be875-bf6b-449e-a906-b9d6f629e31c",
   "metadata": {},
   "outputs": [],
   "source": []
  }
 ],
 "metadata": {
  "kernelspec": {
   "display_name": "Python 3 (ipykernel)",
   "language": "python",
   "name": "python3"
  },
  "language_info": {
   "codemirror_mode": {
    "name": "ipython",
    "version": 3
   },
   "file_extension": ".py",
   "mimetype": "text/x-python",
   "name": "python",
   "nbconvert_exporter": "python",
   "pygments_lexer": "ipython3",
   "version": "3.12.7"
  }
 },
 "nbformat": 4,
 "nbformat_minor": 5
}
